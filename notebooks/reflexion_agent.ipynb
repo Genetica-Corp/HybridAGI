{
 "cells": [
  {
   "cell_type": "code",
   "execution_count": null,
   "metadata": {},
   "outputs": [],
   "source": [
    "import hybridagi.core.graph_program as gp\n",
    "\n",
    "main = gp.GraphProgram(\n",
    "    name = \"main\",\n",
    "    description = \"The main program\"\n",
    ")\n",
    "\n",
    "main.add(gp.Action(\n",
    "    id = \"think\",\n",
    "    purpose = \"Think to answer the objective's question\",\n",
    "    tool = \"Predict\",\n",
    "    prompt = \"Think to answer the objective's question by decomposing the problem/question\"\n",
    "))\n",
    "\n",
    "main.add(gp.Action(\n",
    "    id = \"reflect\",\n",
    "    purpose = \"Reflect on your own thinking\",\n",
    "    tool = \"Predict\",\n",
    "    prompt = \"Reflect on the previous thinking to answer the objective's question\"\n",
    "))\n",
    "\n",
    "main.add(gp.Action(\n",
    "    id = \"answer\",\n",
    "    purpose = \"Give the final answer\",\n",
    "    tool = \"Speak\",\n",
    "    prompt = \"Give the final answer to the objective's question\",\n",
    "))\n",
    "\n",
    "main.connect(\"start\", \"think\")\n",
    "main.connect(\"think\", \"reflect\")\n",
    "main.connect(\"reflect\", \"end\")\n",
    "\n",
    "main.build()\n",
    "\n",
    "main.show(notebook=True)"
   ]
  },
  {
   "cell_type": "code",
   "execution_count": null,
   "metadata": {},
   "outputs": [],
   "source": []
  }
 ],
 "metadata": {
  "kernelspec": {
   "display_name": "venv",
   "language": "python",
   "name": "python3"
  },
  "language_info": {
   "codemirror_mode": {
    "name": "ipython",
    "version": 3
   },
   "file_extension": ".py",
   "mimetype": "text/x-python",
   "name": "python",
   "nbconvert_exporter": "python",
   "pygments_lexer": "ipython3",
   "version": "3.10.12"
  }
 },
 "nbformat": 4,
 "nbformat_minor": 2
}
