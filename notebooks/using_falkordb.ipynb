{
 "cells": [
  {
   "cell_type": "code",
   "execution_count": null,
   "metadata": {},
   "outputs": [],
   "source": [
    "from hybridagi.core.datatypes import Fact, FactList, Entity, Relationship\n",
    "\n",
    "input_data = \\\n",
    "[\n",
    "    {\n",
    "        \"name\": \"Diabetes\",\n",
    "        \"symptoms\": [\"Excessive thirst\", \"Frequent urination\", \"Fatigue\", \"Blurry vision\"],\n",
    "        \"treatment\": [\"Diet and exercise\", \"Medication\", \"Insulin therapy\"],\n",
    "        \"prevalence\": \"9.3% of the population\",\n",
    "    },\n",
    "    {\n",
    "        \"name\": \"Hypertension\",\n",
    "        \"symptoms\": [\"Headache\", \"Shortness of breath\", \"Chest pain\", \"Nosebleeds\"],\n",
    "        \"treatment\": [\"Lifestyle changes\", \"Medication\", \"Surgery\"],\n",
    "        \"prevalence\": \"29.3% of the population\",\n",
    "    },\n",
    "    {\n",
    "        \"name\": \"Cancer\",\n",
    "        \"symptoms\": [\"Unexplained weight loss\", \"Persistent cough\", \"Changes in bowel movements\", \"Lumps or masses\"],\n",
    "        \"treatment\": [\"Surgery\", \"Chemotherapy\", \"Radiation therapy\"],\n",
    "        \"prevalence\": \"18.1% of the population\",\n",
    "    },\n",
    "    {\n",
    "        \"name\": \"Asthma\",\n",
    "        \"symptoms\": [\"Shortness of breath\", \"Wheezing\", \"Coughing\"],\n",
    "        \"treatment\": [\"Medication\", \"Lifestyle changes\", \"Avoidance of triggers\"],\n",
    "        \"prevalence\": \"5.8% of the population\",\n",
    "    },\n",
    "    {\n",
    "        \"name\": \"Depression\",\n",
    "        \"symptoms\": [\"Persistent sadness\", \"Loss of interest\", \"Changes in sleep and appetite\"],\n",
    "        \"treatment\": [\"Therapy\", \"Medication\", \"Lifestyle changes\"],\n",
    "        \"prevalence\": \"4.4% of the population\",\n",
    "    },\n",
    "    {\n",
    "        \"name\": \"Arthritis\",\n",
    "        \"symptoms\": [\"Joint pain\", \"Stiffness\", \"Swelling\"],\n",
    "        \"treatment\": [\"Medication\", \"Physical therapy\", \"Lifestyle changes\"],\n",
    "        \"prevalence\": \"5.3% of the population\",\n",
    "    },\n",
    "]\n",
    "\n",
    "input_facts = FactList()\n",
    "\n",
    "for data in input_data:\n",
    "    pathology = dt.Entity(name=data[\"name\"], label=\"Pathology\")\n",
    "    prevalence = dt.Entity(name=str(data[\"prevalence\"]), label=\"Prevalence\")\n",
    "    input_facts.facts.append(dt.Fact(subj=pathology, rel=dt.Relationship(name=\"HAS_PREVALENCE_OF\"), obj=prevalence))\n",
    "    for symptom in data[\"symptoms\"]:\n",
    "        symptom_entity = dt.Entity(name=symptom, label=\"Symptom\")\n",
    "        input_facts.facts.append(dt.Fact(subj=pathology, rel=dt.Relationship(name=\"HAS_SYMPTOMS\"), obj=symptom_entity))\n",
    "    for treatment in data[\"treatment\"]:\n",
    "        treatment_entity = dt.Entity(name=treatment, label=\"Treatment\")\n",
    "        input_facts.facts.append(dt.Fact(subj=pathology, rel=dt.Relationship(name=\"HAS_TREATMENT\"), obj=treatment_entity))"
   ]
  },
  {
   "cell_type": "code",
   "execution_count": null,
   "metadata": {},
   "outputs": [],
   "source": []
  },
  {
   "cell_type": "code",
   "execution_count": null,
   "metadata": {},
   "outputs": [],
   "source": [
    "from hybridagi.memory.integration.falkordb import FalkorDBProgramMemory, FalkorDBFactMemory\n",
    "\n",
    "fact_memory = FalkorDBFactMemory(index_name=\"pathology_graph_rag\")\n",
    "\n",
    "program_memory = FalkorDBProgramMemory(index_name=\"pathology_graph_rag\")\n",
    "\n"
   ]
  }
 ],
 "metadata": {
  "language_info": {
   "name": "python"
  }
 },
 "nbformat": 4,
 "nbformat_minor": 2
}
